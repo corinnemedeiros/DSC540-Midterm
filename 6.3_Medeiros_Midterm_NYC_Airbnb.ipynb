{
 "cells": [
  {
   "cell_type": "markdown",
   "metadata": {},
   "source": [
    "File: 6.3_Medeiros_Midterm_NYC_Airbnb.ipynb  \n",
    "Name: Corinne Medeiros  \n",
    "Date: 01/19/20  \n",
    "Course: DSC 540 Data Preparation  \n",
    "Desc: 6.3 Midterm Project - New York City Airbnb Data  \n",
    "Usage: Program reads, cleans, formats, and investigates data from NYC Airbnb csv file."
   ]
  },
  {
   "cell_type": "markdown",
   "metadata": {},
   "source": [
    "## Midterm Project  \n",
    "#### New York City Airbnb Data from <https://www.kaggle.com/dgomonov/new-york-city-airbnb-open-data>"
   ]
  },
  {
   "cell_type": "code",
   "execution_count": 3,
   "metadata": {},
   "outputs": [],
   "source": [
    "import csv\n",
    "\n",
    "import pandas as pd\n",
    "\n",
    "import numpy as np\n",
    "\n",
    "from fuzzywuzzy import fuzz\n",
    "\n",
    "import datetime"
   ]
  },
  {
   "cell_type": "code",
   "execution_count": 4,
   "metadata": {},
   "outputs": [],
   "source": [
    "# Importing csv file, converting 'last_review' column to datetime\n",
    "nyc_airbnb_df = pd.read_csv(\"AB_NYC_2019.csv\", parse_dates=['last_review'])"
   ]
  },
  {
   "cell_type": "code",
   "execution_count": 5,
   "metadata": {},
   "outputs": [
    {
     "data": {
      "text/html": [
       "<div>\n",
       "<style scoped>\n",
       "    .dataframe tbody tr th:only-of-type {\n",
       "        vertical-align: middle;\n",
       "    }\n",
       "\n",
       "    .dataframe tbody tr th {\n",
       "        vertical-align: top;\n",
       "    }\n",
       "\n",
       "    .dataframe thead th {\n",
       "        text-align: right;\n",
       "    }\n",
       "</style>\n",
       "<table border=\"1\" class=\"dataframe\">\n",
       "  <thead>\n",
       "    <tr style=\"text-align: right;\">\n",
       "      <th></th>\n",
       "      <th>id</th>\n",
       "      <th>name</th>\n",
       "      <th>host_id</th>\n",
       "      <th>host_name</th>\n",
       "      <th>neighbourhood_group</th>\n",
       "      <th>neighbourhood</th>\n",
       "      <th>latitude</th>\n",
       "      <th>longitude</th>\n",
       "      <th>room_type</th>\n",
       "      <th>price</th>\n",
       "      <th>minimum_nights</th>\n",
       "      <th>number_of_reviews</th>\n",
       "      <th>last_review</th>\n",
       "      <th>reviews_per_month</th>\n",
       "      <th>calculated_host_listings_count</th>\n",
       "      <th>availability_365</th>\n",
       "    </tr>\n",
       "  </thead>\n",
       "  <tbody>\n",
       "    <tr>\n",
       "      <th>0</th>\n",
       "      <td>2539</td>\n",
       "      <td>Clean &amp; quiet apt home by the park</td>\n",
       "      <td>2787</td>\n",
       "      <td>John</td>\n",
       "      <td>Brooklyn</td>\n",
       "      <td>Kensington</td>\n",
       "      <td>40.64749</td>\n",
       "      <td>-73.97237</td>\n",
       "      <td>Private room</td>\n",
       "      <td>149</td>\n",
       "      <td>1</td>\n",
       "      <td>9</td>\n",
       "      <td>2018-10-19</td>\n",
       "      <td>0.21</td>\n",
       "      <td>6</td>\n",
       "      <td>365</td>\n",
       "    </tr>\n",
       "    <tr>\n",
       "      <th>1</th>\n",
       "      <td>2595</td>\n",
       "      <td>Skylit Midtown Castle</td>\n",
       "      <td>2845</td>\n",
       "      <td>Jennifer</td>\n",
       "      <td>Manhattan</td>\n",
       "      <td>Midtown</td>\n",
       "      <td>40.75362</td>\n",
       "      <td>-73.98377</td>\n",
       "      <td>Entire home/apt</td>\n",
       "      <td>225</td>\n",
       "      <td>1</td>\n",
       "      <td>45</td>\n",
       "      <td>2019-05-21</td>\n",
       "      <td>0.38</td>\n",
       "      <td>2</td>\n",
       "      <td>355</td>\n",
       "    </tr>\n",
       "    <tr>\n",
       "      <th>2</th>\n",
       "      <td>3647</td>\n",
       "      <td>THE VILLAGE OF HARLEM....NEW YORK !</td>\n",
       "      <td>4632</td>\n",
       "      <td>Elisabeth</td>\n",
       "      <td>Manhattan</td>\n",
       "      <td>Harlem</td>\n",
       "      <td>40.80902</td>\n",
       "      <td>-73.94190</td>\n",
       "      <td>Private room</td>\n",
       "      <td>150</td>\n",
       "      <td>3</td>\n",
       "      <td>0</td>\n",
       "      <td>NaT</td>\n",
       "      <td>NaN</td>\n",
       "      <td>1</td>\n",
       "      <td>365</td>\n",
       "    </tr>\n",
       "    <tr>\n",
       "      <th>3</th>\n",
       "      <td>3831</td>\n",
       "      <td>Cozy Entire Floor of Brownstone</td>\n",
       "      <td>4869</td>\n",
       "      <td>LisaRoxanne</td>\n",
       "      <td>Brooklyn</td>\n",
       "      <td>Clinton Hill</td>\n",
       "      <td>40.68514</td>\n",
       "      <td>-73.95976</td>\n",
       "      <td>Entire home/apt</td>\n",
       "      <td>89</td>\n",
       "      <td>1</td>\n",
       "      <td>270</td>\n",
       "      <td>2019-07-05</td>\n",
       "      <td>4.64</td>\n",
       "      <td>1</td>\n",
       "      <td>194</td>\n",
       "    </tr>\n",
       "    <tr>\n",
       "      <th>4</th>\n",
       "      <td>5022</td>\n",
       "      <td>Entire Apt: Spacious Studio/Loft by central park</td>\n",
       "      <td>7192</td>\n",
       "      <td>Laura</td>\n",
       "      <td>Manhattan</td>\n",
       "      <td>East Harlem</td>\n",
       "      <td>40.79851</td>\n",
       "      <td>-73.94399</td>\n",
       "      <td>Entire home/apt</td>\n",
       "      <td>80</td>\n",
       "      <td>10</td>\n",
       "      <td>9</td>\n",
       "      <td>2018-11-19</td>\n",
       "      <td>0.10</td>\n",
       "      <td>1</td>\n",
       "      <td>0</td>\n",
       "    </tr>\n",
       "  </tbody>\n",
       "</table>\n",
       "</div>"
      ],
      "text/plain": [
       "     id                                              name  host_id  \\\n",
       "0  2539                Clean & quiet apt home by the park     2787   \n",
       "1  2595                             Skylit Midtown Castle     2845   \n",
       "2  3647               THE VILLAGE OF HARLEM....NEW YORK !     4632   \n",
       "3  3831                   Cozy Entire Floor of Brownstone     4869   \n",
       "4  5022  Entire Apt: Spacious Studio/Loft by central park     7192   \n",
       "\n",
       "     host_name neighbourhood_group neighbourhood  latitude  longitude  \\\n",
       "0         John            Brooklyn    Kensington  40.64749  -73.97237   \n",
       "1     Jennifer           Manhattan       Midtown  40.75362  -73.98377   \n",
       "2    Elisabeth           Manhattan        Harlem  40.80902  -73.94190   \n",
       "3  LisaRoxanne            Brooklyn  Clinton Hill  40.68514  -73.95976   \n",
       "4        Laura           Manhattan   East Harlem  40.79851  -73.94399   \n",
       "\n",
       "         room_type  price  minimum_nights  number_of_reviews last_review  \\\n",
       "0     Private room    149               1                  9  2018-10-19   \n",
       "1  Entire home/apt    225               1                 45  2019-05-21   \n",
       "2     Private room    150               3                  0         NaT   \n",
       "3  Entire home/apt     89               1                270  2019-07-05   \n",
       "4  Entire home/apt     80              10                  9  2018-11-19   \n",
       "\n",
       "   reviews_per_month  calculated_host_listings_count  availability_365  \n",
       "0               0.21                               6               365  \n",
       "1               0.38                               2               355  \n",
       "2                NaN                               1               365  \n",
       "3               4.64                               1               194  \n",
       "4               0.10                               1                 0  "
      ]
     },
     "execution_count": 5,
     "metadata": {},
     "output_type": "execute_result"
    }
   ],
   "source": [
    "# Previewing data\n",
    "nyc_airbnb_df.head()"
   ]
  },
  {
   "cell_type": "code",
   "execution_count": 6,
   "metadata": {},
   "outputs": [
    {
     "name": "stdout",
     "output_type": "stream",
     "text": [
      "<class 'pandas.core.frame.DataFrame'>\n",
      "RangeIndex: 48895 entries, 0 to 48894\n",
      "Data columns (total 16 columns):\n",
      "id                                48895 non-null int64\n",
      "name                              48879 non-null object\n",
      "host_id                           48895 non-null int64\n",
      "host_name                         48874 non-null object\n",
      "neighbourhood_group               48895 non-null object\n",
      "neighbourhood                     48895 non-null object\n",
      "latitude                          48895 non-null float64\n",
      "longitude                         48895 non-null float64\n",
      "room_type                         48895 non-null object\n",
      "price                             48895 non-null int64\n",
      "minimum_nights                    48895 non-null int64\n",
      "number_of_reviews                 48895 non-null int64\n",
      "last_review                       38843 non-null datetime64[ns]\n",
      "reviews_per_month                 38843 non-null float64\n",
      "calculated_host_listings_count    48895 non-null int64\n",
      "availability_365                  48895 non-null int64\n",
      "dtypes: datetime64[ns](1), float64(3), int64(7), object(5)\n",
      "memory usage: 6.0+ MB\n",
      "None\n"
     ]
    }
   ],
   "source": [
    "# Summary of dataframe\n",
    "print(nyc_airbnb_df.info())"
   ]
  },
  {
   "cell_type": "markdown",
   "metadata": {},
   "source": [
    "### Replacing Headers"
   ]
  },
  {
   "cell_type": "markdown",
   "metadata": {},
   "source": [
    "In this dataset, the headers are very readable, so I decided to replace them with capitalized versions for practice and demonstration purposes.  \n",
    "\n",
    "First, I copied the header names from the original csv file into a new csv file with their corresponding new headers."
   ]
  },
  {
   "cell_type": "code",
   "execution_count": 7,
   "metadata": {},
   "outputs": [
    {
     "data": {
      "text/plain": [
       "[(['id', 'ID'], '2539'),\n",
       " (['name', 'NAME'], 'Clean & quiet apt home by the park'),\n",
       " (['host_id', 'HOST_ID'], '2787'),\n",
       " (['host_name', 'HOST_NAME'], 'John'),\n",
       " (['neighbourhood_group', 'NEIGHBORHOOD_GROUP'], 'Brooklyn'),\n",
       " (['neighbourhood', 'NEIGHBORHOOD'], 'Kensington'),\n",
       " (['latitude', 'LATITUDE'], '40.64749'),\n",
       " (['longitude', 'LONGITUDE'], '-73.97237'),\n",
       " (['room_type', 'ROOM_TYPE'], 'Private room'),\n",
       " (['price', 'PRICE'], '149'),\n",
       " (['minimum_nights', 'MINIMUM_NIGHTS'], '1'),\n",
       " (['number_of_reviews', 'NUMBER_OF_REVIEWS'], '9'),\n",
       " (['last_review', 'LAST_REVIEW'], '2018-10-19'),\n",
       " (['reviews_per_month', 'REVIEWS_PER_MONTH'], '0.21'),\n",
       " (['calculated_host_listings_count', 'CALCULATED_HOST_LISTINGS_COUNT'], '6'),\n",
       " (['availability_365', 'AVAILABILITY_365'], '365')]"
      ]
     },
     "execution_count": 7,
     "metadata": {},
     "output_type": "execute_result"
    }
   ],
   "source": [
    "from csv import reader\n",
    "\n",
    "data_rdr = reader(open('AB_NYC_2019.csv', 'rt'))\n",
    "header_rdr = reader(open('AB_NYC_2019_headers.csv', 'rt'))\n",
    "\n",
    "# Creating list from each row of file imported into data_rdr\n",
    "data_rows = [d for d in data_rdr]\n",
    "\n",
    "# Creating list from each row of file imported into header_rdr,\n",
    "# except when first item of header_rdr does not exist within data_rows headers.\n",
    "header_rows = [h for h in header_rdr if h[0] in data_rows[0]] \n",
    "\n",
    "# Creating list of old headers\n",
    "old_headers = [h[0] for h in header_rows]\n",
    "\n",
    "skip_index = []\n",
    "final_header_rows = []\n",
    "\n",
    "# Creating list of indexes for rows in which header from data_rows is not in old_headers.\n",
    "# Also creating a list of header rows in the correct order.\n",
    "for header in data_rows[0]:\n",
    "    if header not in old_headers:\n",
    "        index = data_rows[0].index(header)\n",
    "        skip_index.append(index) \n",
    "    else:\n",
    "        for head in header_rows: \n",
    "            if head[0] == header:\n",
    "                final_header_rows.append(head) \n",
    "                break\n",
    "                \n",
    "new_data = []\n",
    "\n",
    "# Creating ordered list of data to match up with each item in final_header_rows list.\n",
    "# Skipping rows in skip_index list.\n",
    "for row in data_rows[1:]:\n",
    "    new_row = []\n",
    "    for i, d in enumerate(row): \n",
    "        if i not in skip_index:\n",
    "            new_row.append(d)\n",
    "    new_data.append(new_row)\n",
    "\n",
    "zipped_data = []\n",
    "\n",
    "# Putting new_data and final_header_rows into tuples.\n",
    "# Each row includes all corresponding data with headers.\n",
    "for drow in new_data:\n",
    "    zipped_data.append(list(zip(final_header_rows, drow)))\n",
    "    \n",
    "zipped_data[0]"
   ]
  },
  {
   "cell_type": "markdown",
   "metadata": {},
   "source": [
    "### Formatting Data to a Readable Format"
   ]
  },
  {
   "cell_type": "code",
   "execution_count": 8,
   "metadata": {},
   "outputs": [
    {
     "name": "stdout",
     "output_type": "stream",
     "text": [
      "Header: ID\n",
      "Value: 2539\n",
      "Header: NAME\n",
      "Value: Clean & quiet apt home by the park\n",
      "Header: HOST_ID\n",
      "Value: 2787\n",
      "Header: HOST_NAME\n",
      "Value: John\n",
      "Header: NEIGHBORHOOD_GROUP\n",
      "Value: Brooklyn\n",
      "Header: NEIGHBORHOOD\n",
      "Value: Kensington\n",
      "Header: LATITUDE\n",
      "Value: 40.64749\n",
      "Header: LONGITUDE\n",
      "Value: -73.97237\n",
      "Header: ROOM_TYPE\n",
      "Value: Private room\n",
      "Header: PRICE\n",
      "Value: 149\n",
      "Header: MINIMUM_NIGHTS\n",
      "Value: 1\n",
      "Header: NUMBER_OF_REVIEWS\n",
      "Value: 9\n",
      "Header: LAST_REVIEW\n",
      "Value: 2018-10-19\n",
      "Header: REVIEWS_PER_MONTH\n",
      "Value: 0.21\n",
      "Header: CALCULATED_HOST_LISTINGS_COUNT\n",
      "Value: 6\n",
      "Header: AVAILABILITY_365\n",
      "Value: 365\n"
     ]
    }
   ],
   "source": [
    "# Looping through first row of data, printing header and corresponding value on separate lines\n",
    "for x in zipped_data[0]:\n",
    "    print ('Header: {[1]}\\nValue: {}'.format(x[0], x[1]))"
   ]
  },
  {
   "cell_type": "markdown",
   "metadata": {},
   "source": [
    "### Identifying Outliers and Bad Data"
   ]
  },
  {
   "cell_type": "markdown",
   "metadata": {},
   "source": [
    "#### Looking for missing values"
   ]
  },
  {
   "cell_type": "code",
   "execution_count": 9,
   "metadata": {},
   "outputs": [
    {
     "data": {
      "text/plain": [
       "id                                    0\n",
       "name                                 16\n",
       "host_id                               0\n",
       "host_name                            21\n",
       "neighbourhood_group                   0\n",
       "neighbourhood                         0\n",
       "latitude                              0\n",
       "longitude                             0\n",
       "room_type                             0\n",
       "price                                 0\n",
       "minimum_nights                        0\n",
       "number_of_reviews                     0\n",
       "last_review                       10052\n",
       "reviews_per_month                 10052\n",
       "calculated_host_listings_count        0\n",
       "availability_365                      0\n",
       "dtype: int64"
      ]
     },
     "execution_count": 9,
     "metadata": {},
     "output_type": "execute_result"
    }
   ],
   "source": [
    "# Checking for null values in original dataframe\n",
    "nyc_airbnb_df.isnull().sum()"
   ]
  },
  {
   "cell_type": "code",
   "execution_count": 10,
   "metadata": {},
   "outputs": [
    {
     "name": "stdout",
     "output_type": "stream",
     "text": [
      "{'LAST_REVIEW': 10052, 'REVIEWS_PER_MONTH': 10052, 'HOST_NAME': 21, 'NAME': 16}\n"
     ]
    }
   ],
   "source": [
    "# Empty dictionary to store NA values\n",
    "na_count = {}\n",
    "\n",
    "# Looping through zipped_data rows, checking for NA values\n",
    "for row in zipped_data:\n",
    "    for item in row:\n",
    "        header = item[0][1] \n",
    "        value = item[1]\n",
    "        if value in [\"NA\", \"na\", \"n/a\", \"\", None]:\n",
    "            if header in na_count.keys(): \n",
    "                na_count[header] += 1 \n",
    "            else:\n",
    "                na_count[header] = 1 \n",
    "\n",
    "print (na_count)"
   ]
  },
  {
   "cell_type": "markdown",
   "metadata": {},
   "source": [
    "Using pandas and loops, we can confirm that the dataset contains missing values. Knowing that it is possible for Airbnb listings to have 0 reviews, with a matching value for reviews per month tells us that these are most likely not bad data. Name and host name on the other hand are columns that should have data, so removing these could be a good idea, but would need more research into those individual listings to determine the quality."
   ]
  },
  {
   "cell_type": "markdown",
   "metadata": {},
   "source": [
    "One example of dealing with missing values would be replacing some null values with 0. Since blank fields within the reviews per month column most likely mean there aren't any reviews for that listing, I could put 0 instead."
   ]
  },
  {
   "cell_type": "code",
   "execution_count": 11,
   "metadata": {},
   "outputs": [],
   "source": [
    "# Replacing null values in reviews per month with 0 \n",
    "nyc_airbnb_df[\"reviews_per_month\"].fillna(0, inplace = True)"
   ]
  },
  {
   "cell_type": "code",
   "execution_count": 12,
   "metadata": {},
   "outputs": [
    {
     "data": {
      "text/plain": [
       "0    0.21\n",
       "1    0.38\n",
       "2    0.00\n",
       "3    4.64\n",
       "4    0.10\n",
       "Name: reviews_per_month, dtype: float64"
      ]
     },
     "execution_count": 12,
     "metadata": {},
     "output_type": "execute_result"
    }
   ],
   "source": [
    "# Previewing data after replacing null values\n",
    "nyc_airbnb_df['reviews_per_month'].head()"
   ]
  },
  {
   "cell_type": "markdown",
   "metadata": {},
   "source": [
    "#### Looking for Outliers"
   ]
  },
  {
   "cell_type": "code",
   "execution_count": 13,
   "metadata": {},
   "outputs": [
    {
     "name": "stdout",
     "output_type": "stream",
     "text": [
      "{'ID': {'digit': 48895, 'boolean': 0, 'empty': 0, 'time_related': 0, 'text': 0, 'unknown': 0}, 'NAME': {'digit': 4, 'boolean': 0, 'empty': 0, 'time_related': 5102, 'text': 186, 'unknown': 43603}, 'HOST_ID': {'digit': 48895, 'boolean': 0, 'empty': 0, 'time_related': 0, 'text': 0, 'unknown': 0}, 'HOST_NAME': {'digit': 6, 'boolean': 0, 'empty': 0, 'time_related': 42, 'text': 44929, 'unknown': 3918}, 'NEIGHBORHOOD_GROUP': {'digit': 0, 'boolean': 0, 'empty': 0, 'time_related': 0, 'text': 48522, 'unknown': 373}, 'NEIGHBORHOOD': {'digit': 0, 'boolean': 0, 'empty': 0, 'time_related': 0, 'text': 20551, 'unknown': 28344}, 'LATITUDE': {'digit': 0, 'boolean': 0, 'empty': 0, 'time_related': 0, 'text': 0, 'unknown': 48895}, 'LONGITUDE': {'digit': 0, 'boolean': 0, 'empty': 0, 'time_related': 0, 'text': 0, 'unknown': 48895}, 'ROOM_TYPE': {'digit': 0, 'boolean': 0, 'empty': 0, 'time_related': 25409, 'text': 0, 'unknown': 23486}, 'PRICE': {'digit': 48895, 'boolean': 0, 'empty': 0, 'time_related': 0, 'text': 0, 'unknown': 0}, 'MINIMUM_NIGHTS': {'digit': 48895, 'boolean': 0, 'empty': 0, 'time_related': 0, 'text': 0, 'unknown': 0}, 'NUMBER_OF_REVIEWS': {'digit': 48895, 'boolean': 0, 'empty': 0, 'time_related': 0, 'text': 0, 'unknown': 0}, 'LAST_REVIEW': {'digit': 0, 'boolean': 0, 'empty': 0, 'time_related': 0, 'text': 0, 'unknown': 48895}, 'REVIEWS_PER_MONTH': {'digit': 1558, 'boolean': 0, 'empty': 0, 'time_related': 0, 'text': 0, 'unknown': 47337}, 'CALCULATED_HOST_LISTINGS_COUNT': {'digit': 48895, 'boolean': 0, 'empty': 0, 'time_related': 0, 'text': 0, 'unknown': 0}, 'AVAILABILITY_365': {'digit': 48895, 'boolean': 0, 'empty': 0, 'time_related': 0, 'text': 0, 'unknown': 0}}\n"
     ]
    }
   ],
   "source": [
    "# Verifing that fields are the expected data type by looping through the data and storing results in a dictionary\n",
    "\n",
    "datatypes = {} \n",
    "\n",
    "# Creating dictionary of different possible data types\n",
    "start_dict = {'digit': 0, 'boolean': 0,\n",
    "              'empty': 0, 'time_related': 0,\n",
    "              'text': 0, 'unknown': 0\n",
    "              } \n",
    "\n",
    "# Looping through data, performing initial type checks, storing values in corresponding type key\n",
    "for row in zipped_data:\n",
    "    for item in row:\n",
    "        header = item[0][1]\n",
    "        value = item[1]\n",
    "        key = 'unknown' \n",
    "        if value.isdigit(): \n",
    "            key = 'digit'\n",
    "        elif value in ['Yes', 'No', 'True', 'False']: \n",
    "            key = 'boolean'\n",
    "        elif value.isspace(): \n",
    "            key = 'empty'\n",
    "        elif value.find('/') > 0 or value.find(':') > 0: \n",
    "            key = 'time_related'\n",
    "        elif value.isalpha(): \n",
    "            key = 'text'\n",
    "        if header not in datatypes.keys(): \n",
    "            datatypes[header] = start_dict.copy() \n",
    "        datatypes[header][key] += 1 \n",
    "\n",
    "print(datatypes)\n"
   ]
  },
  {
   "cell_type": "code",
   "execution_count": 14,
   "metadata": {},
   "outputs": [
    {
     "name": "stdout",
     "output_type": "stream",
     "text": [
      "Header: ID\n",
      "Data Types: {'digit': 48895, 'boolean': 0, 'empty': 0, 'time_related': 0, 'text': 0, 'unknown': 0}\n",
      "\n",
      "Header: NAME\n",
      "Data Types: {'digit': 4, 'boolean': 0, 'empty': 0, 'time_related': 5102, 'text': 186, 'unknown': 43603}\n",
      "\n",
      "Header: HOST_ID\n",
      "Data Types: {'digit': 48895, 'boolean': 0, 'empty': 0, 'time_related': 0, 'text': 0, 'unknown': 0}\n",
      "\n",
      "Header: HOST_NAME\n",
      "Data Types: {'digit': 6, 'boolean': 0, 'empty': 0, 'time_related': 42, 'text': 44929, 'unknown': 3918}\n",
      "\n",
      "Header: NEIGHBORHOOD_GROUP\n",
      "Data Types: {'digit': 0, 'boolean': 0, 'empty': 0, 'time_related': 0, 'text': 48522, 'unknown': 373}\n",
      "\n",
      "Header: NEIGHBORHOOD\n",
      "Data Types: {'digit': 0, 'boolean': 0, 'empty': 0, 'time_related': 0, 'text': 20551, 'unknown': 28344}\n",
      "\n",
      "Header: LATITUDE\n",
      "Data Types: {'digit': 0, 'boolean': 0, 'empty': 0, 'time_related': 0, 'text': 0, 'unknown': 48895}\n",
      "\n",
      "Header: LONGITUDE\n",
      "Data Types: {'digit': 0, 'boolean': 0, 'empty': 0, 'time_related': 0, 'text': 0, 'unknown': 48895}\n",
      "\n",
      "Header: ROOM_TYPE\n",
      "Data Types: {'digit': 0, 'boolean': 0, 'empty': 0, 'time_related': 25409, 'text': 0, 'unknown': 23486}\n",
      "\n",
      "Header: PRICE\n",
      "Data Types: {'digit': 48895, 'boolean': 0, 'empty': 0, 'time_related': 0, 'text': 0, 'unknown': 0}\n",
      "\n",
      "Header: MINIMUM_NIGHTS\n",
      "Data Types: {'digit': 48895, 'boolean': 0, 'empty': 0, 'time_related': 0, 'text': 0, 'unknown': 0}\n",
      "\n",
      "Header: NUMBER_OF_REVIEWS\n",
      "Data Types: {'digit': 48895, 'boolean': 0, 'empty': 0, 'time_related': 0, 'text': 0, 'unknown': 0}\n",
      "\n",
      "Header: LAST_REVIEW\n",
      "Data Types: {'digit': 0, 'boolean': 0, 'empty': 0, 'time_related': 0, 'text': 0, 'unknown': 48895}\n",
      "\n",
      "Header: REVIEWS_PER_MONTH\n",
      "Data Types: {'digit': 1558, 'boolean': 0, 'empty': 0, 'time_related': 0, 'text': 0, 'unknown': 47337}\n",
      "\n",
      "Header: CALCULATED_HOST_LISTINGS_COUNT\n",
      "Data Types: {'digit': 48895, 'boolean': 0, 'empty': 0, 'time_related': 0, 'text': 0, 'unknown': 0}\n",
      "\n",
      "Header: AVAILABILITY_365\n",
      "Data Types: {'digit': 48895, 'boolean': 0, 'empty': 0, 'time_related': 0, 'text': 0, 'unknown': 0}\n",
      "\n"
     ]
    }
   ],
   "source": [
    "# Printing datatypes results in an easier to read format\n",
    "for key in datatypes:\n",
    "    print ('Header: {}\\nData Types: {}\\n'.format(key, datatypes[key]))"
   ]
  },
  {
   "cell_type": "markdown",
   "metadata": {},
   "source": [
    "From these results, we can see that certain values might need to be checked, such as latitude, longitude, reviews per month, and names of places. If we needed to run statistical tests using reviews per month for instance, we would need to make sure the values grouped under 'unknown' are recognized as numbers, or replaced."
   ]
  },
  {
   "cell_type": "markdown",
   "metadata": {},
   "source": [
    "### Finding Duplicates"
   ]
  },
  {
   "cell_type": "code",
   "execution_count": 16,
   "metadata": {},
   "outputs": [
    {
     "name": "stdout",
     "output_type": "stream",
     "text": [
      "Duplicate rows based on 'name' & 'host_id' columns: \n",
      "             id                                               name    host_id  \\\n",
      "330       81739                  Loft w/ Terrace @ Box House Hotel     417504   \n",
      "339       84010                               Superior @ Box House     417504   \n",
      "580      219818                 ✿✿✿ COUNTRY COTTAGE IN THE CITY✿✿✿    1138692   \n",
      "661      250537                                The Lenox in Harlem    1313306   \n",
      "669      253471                   Loft Suite @ The Box House Hotel     417504   \n",
      "670      253475                   Loft Suite @ The Box House Hotel     417504   \n",
      "674      253800                       Loft Suite @ Box House Hotel     417504   \n",
      "675      253803                   Loft Suite @ The Box House Hotel     417504   \n",
      "676      253806                   Loft Suite @ The Box House Hotel     417504   \n",
      "677      253811                   Loft Suite @ The Box House Hotel     417504   \n",
      "678      253815                   Loft Suite @ The Box House Hotel     417504   \n",
      "679      253828                Duplex w/ Terrace @ Box House Hotel     417504   \n",
      "680      253839                  Loft w/ Terrace @ Box House Hotel     417504   \n",
      "682      253846                               Superior @ Box House     417504   \n",
      "827      294227                   Loft Suite @ The Box House Hotel     417504   \n",
      "829      294242                   Loft Suite @ The Box House Hotel     417504   \n",
      "831      294259                       Loft Suite @ Box House Hotel     417504   \n",
      "832      294263                   Loft Suite @ The Box House Hotel     417504   \n",
      "833      294280                   Loft Suite @ The Box House Hotel     417504   \n",
      "836      294490                       Loft Suite @ Box House Hotel     417504   \n",
      "1098     464231                     Large Room w/ Private Entrance    1530310   \n",
      "1772     798008                Hancock Town House!-Stuyvesant Mews     758441   \n",
      "2564    1330056                Spacious Loft 5 min to Union Square     124357   \n",
      "3581    2138787                    HARLEM, NEW YORK WELCOMES YOU!!      68428   \n",
      "5243    3791244                       west village 1BR!best value!    2119276   \n",
      "5903    4303600  Luminous Modern Apt Share for Young Professionals    2822805   \n",
      "8176    6303845  Luminous Modern Apt Share for Young Professionals    2822805   \n",
      "8177    6304002  Luminous Modern Apt Share for Young Professionals    2822805   \n",
      "9057    6947477                    Private room. Amazing location!   35968845   \n",
      "9218    7050316                      Best Location near Columbia U   36818817   \n",
      "...         ...                                                ...        ...   \n",
      "45413  34737337                        步行9分钟到法拉盛缅街中心的电梯房,提供免费矿泉水可乐  151810361   \n",
      "45461  34771161                        步行9分钟到法拉盛缅街中心的电梯房,提供免费矿泉水可乐  151810361   \n",
      "45663  34895344       West 55th street, Lux 1bd Serviced Apartment   22541573   \n",
      "45743  34936509          NEAR 5th AVE RENOVATED STUDIO IN BROOKLYN  188212054   \n",
      "45958  35005936             Intimate 1BR in Midtown East by Sonder  219517861   \n",
      "46025  35035202   Bronx, Little Italy, Arthur Ave, Fordham, Yanks.  256683560   \n",
      "46185  35136809  PRIVATE, NEWLY RENOVATED BEDROOM, 10 MINS FROM...  107915864   \n",
      "46237  35162306  Private Sunny Room in Williamsburg, Brooklyn - NY   30054890   \n",
      "46418  35236345          Cozy house in Woodside, comfortable are!!  200239515   \n",
      "46478  35267137      Close to Manhattan! Comfortable area to stay♪  200239515   \n",
      "46502  35281731                             Brooklyn Heights Oasis  106436589   \n",
      "46769  35425034                   Stylish studio by Fulton station  107724585   \n",
      "46826  35460924         Artsy Private BR in Fort Greene Cumberland  230192510   \n",
      "46828  35461013         Artsy Private BR in Fort Greene Cumberland  230192510   \n",
      "46832  35461373         Artsy Private BR in Fort Greene Cumberland  230192510   \n",
      "46833  35461466         Artsy Private BR in Fort Greene Cumberland  230192510   \n",
      "46834  35461527         Artsy Private BR in Fort Greene Cumberland  230192510   \n",
      "46835  35461620         Artsy Private BR in Fort Greene Cumberland  230192510   \n",
      "46836  35461700         Artsy Private BR in Fort Greene Cumberland  230192510   \n",
      "46838  35461822         Artsy Private BR in Fort Greene Cumberland  230192510   \n",
      "46840  35461960         Artsy Private BR in Fort Greene Cumberland  230192510   \n",
      "46843  35462273        Modern Private BR in Fort Greene Cumberland  230192510   \n",
      "46846  35463471     West 15th Street Cozy Chelsea 1bd Serviced Apt   22541573   \n",
      "46924  35490967  WEST VILLAGE Bohemian flat in neo-Tudor town h...   27636707   \n",
      "47456  35741268  Studio at Hilton Club Residence - Manhattan's ...    6524762   \n",
      "47876  35966653             Bright, contemporary and best location   24232061   \n",
      "48026  36039574                 ★Premier Queen Room with Balcony ★  270874051   \n",
      "48207  36139806  30 mins to Times Square!! 15 mins LGA, 25mins ...  260209224   \n",
      "48662  36372006  Very Clean Private Room Near Buses & Restauran...  118405437   \n",
      "48684  36382847                                       Comfort home  266211707   \n",
      "\n",
      "                 host_name neighbourhood_group        neighbourhood  latitude  \\\n",
      "330    The Box House Hotel            Brooklyn           Greenpoint  40.73842   \n",
      "339    The Box House Hotel            Brooklyn           Greenpoint  40.73813   \n",
      "580           Keera (Jena)           Manhattan      Lower East Side  40.71892   \n",
      "661                 Yvette           Manhattan               Harlem  40.81122   \n",
      "669    The Box House Hotel            Brooklyn           Greenpoint  40.73641   \n",
      "670    The Box House Hotel            Brooklyn           Greenpoint  40.73794   \n",
      "674    The Box House Hotel            Brooklyn           Greenpoint  40.73730   \n",
      "675    The Box House Hotel            Brooklyn           Greenpoint  40.73708   \n",
      "676    The Box House Hotel            Brooklyn           Greenpoint  40.73652   \n",
      "677    The Box House Hotel            Brooklyn           Greenpoint  40.73693   \n",
      "678    The Box House Hotel            Brooklyn           Greenpoint  40.73784   \n",
      "679    The Box House Hotel            Brooklyn           Greenpoint  40.73674   \n",
      "680    The Box House Hotel            Brooklyn           Greenpoint  40.73783   \n",
      "682    The Box House Hotel            Brooklyn           Greenpoint  40.73731   \n",
      "827    The Box House Hotel            Brooklyn           Greenpoint  40.73683   \n",
      "829    The Box House Hotel            Brooklyn           Greenpoint  40.73890   \n",
      "831    The Box House Hotel            Brooklyn           Greenpoint  40.73806   \n",
      "832    The Box House Hotel            Brooklyn           Greenpoint  40.73661   \n",
      "833    The Box House Hotel            Brooklyn           Greenpoint  40.73857   \n",
      "836    The Box House Hotel            Brooklyn           Greenpoint  40.73857   \n",
      "1098               Jacques            Brooklyn   Bedford-Stuyvesant  40.68905   \n",
      "1772                  Fred            Brooklyn   Bedford-Stuyvesant  40.68561   \n",
      "2564                  Alex            Brooklyn         Williamsburg  40.71571   \n",
      "3581       Tye And Etienne           Manhattan   Washington Heights  40.83191   \n",
      "5243                  Host           Manhattan         West Village  40.73254   \n",
      "5903                 Ollie            Brooklyn   Bedford-Stuyvesant  40.68531   \n",
      "8176                 Ollie            Brooklyn   Bedford-Stuyvesant  40.68634   \n",
      "8177                 Ollie            Brooklyn   Bedford-Stuyvesant  40.68563   \n",
      "9057                 Andre           Manhattan      Upper West Side  40.79265   \n",
      "9218                 Mifan           Manhattan  Morningside Heights  40.80460   \n",
      "...                    ...                 ...                  ...       ...   \n",
      "45413              Jungyen              Queens             Flushing  40.76187   \n",
      "45461              Jungyen              Queens             Flushing  40.76268   \n",
      "45663                  Ken           Manhattan       Hell's Kitchen  40.76957   \n",
      "45743               Joanna            Brooklyn            Bay Ridge  40.62061   \n",
      "45958         Sonder (NYC)           Manhattan          Murray Hill  40.74451   \n",
      "46025                Jorge               Bronx              Belmont  40.85539   \n",
      "46185                 Mina              Queens         Howard Beach  40.66635   \n",
      "46237                 Gary            Brooklyn         Williamsburg  40.70706   \n",
      "46418                Shogo              Queens             Woodside  40.74239   \n",
      "46478                Shogo              Queens            Sunnyside  40.73872   \n",
      "46502                Wendy            Brooklyn     Brooklyn Heights  40.69852   \n",
      "46769               Jessie           Manhattan   Financial District  40.71035   \n",
      "46826                 Zach            Brooklyn          Fort Greene  40.69611   \n",
      "46828                 Zach            Brooklyn          Fort Greene  40.69747   \n",
      "46832                 Zach            Brooklyn          Fort Greene  40.69617   \n",
      "46833                 Zach            Brooklyn          Fort Greene  40.69749   \n",
      "46834                 Zach            Brooklyn          Fort Greene  40.69634   \n",
      "46835                 Zach            Brooklyn          Fort Greene  40.69710   \n",
      "46836                 Zach            Brooklyn          Fort Greene  40.69774   \n",
      "46838                 Zach            Brooklyn          Fort Greene  40.69706   \n",
      "46840                 Zach            Brooklyn          Fort Greene  40.69633   \n",
      "46843                 Zach            Brooklyn          Fort Greene  40.69706   \n",
      "46846                  Ken           Manhattan         West Village  40.74000   \n",
      "46924          Gaia&Pietro           Manhattan         West Village  40.73325   \n",
      "47456            Armstrong           Manhattan              Midtown  40.76218   \n",
      "47876                Tracy           Manhattan      Upper East Side  40.77297   \n",
      "48026        Hotel Vetiver              Queens     Long Island City  40.75300   \n",
      "48207                Lotay              Queens      Jackson Heights  40.75077   \n",
      "48662               PengYu              Queens            Woodhaven  40.69411   \n",
      "48684                  Yan            Brooklyn          Sunset Park  40.64439   \n",
      "\n",
      "       longitude        room_type  price  minimum_nights  number_of_reviews  \\\n",
      "330    -73.95312     Private room    249               3                  2   \n",
      "339    -73.95394     Private room    179               3                 13   \n",
      "580    -73.98401  Entire home/apt    199               1                 14   \n",
      "661    -73.94279  Entire home/apt    400               5                  0   \n",
      "669    -73.95330  Entire home/apt    199               3                 24   \n",
      "670    -73.95254  Entire home/apt    199               3                 59   \n",
      "674    -73.95323  Entire home/apt    199               3                 24   \n",
      "675    -73.95271  Entire home/apt    199               3                 23   \n",
      "676    -73.95236  Entire home/apt    199               3                 43   \n",
      "677    -73.95316  Entire home/apt    199               3                 30   \n",
      "678    -73.95324  Entire home/apt    199               3                 39   \n",
      "679    -73.95247     Private room    349               3                  8   \n",
      "680    -73.95259     Private room    249               3                  3   \n",
      "682    -73.95450     Private room    179               3                  4   \n",
      "827    -73.95430  Entire home/apt    199               3                 43   \n",
      "829    -73.95395  Entire home/apt    199               3                 75   \n",
      "831    -73.95462  Entire home/apt    199               3                 73   \n",
      "832    -73.95479  Entire home/apt    199               3                 89   \n",
      "833    -73.95435  Entire home/apt    199               3                 23   \n",
      "836    -73.95299  Entire home/apt    199               3                 54   \n",
      "1098   -73.95410     Private room     65               7                  2   \n",
      "1772   -73.92029     Private room    165               1                  0   \n",
      "2564   -73.95813     Private room     90               1                115   \n",
      "3581   -73.94110     Private room     62               2                  4   \n",
      "5243   -74.00698  Entire home/apt    170              30                 12   \n",
      "5903   -73.95185     Private room     60              30                 44   \n",
      "8176   -73.95112     Private room     60              30                 26   \n",
      "8177   -73.94953     Private room     60              30                 23   \n",
      "9057   -73.97108     Private room     89               1                  1   \n",
      "9218   -73.96545     Private room     50               1                  1   \n",
      "...          ...              ...    ...             ...                ...   \n",
      "45413  -73.82169     Private room     69               1                  9   \n",
      "45461  -73.82252     Private room     99               1                 10   \n",
      "45663  -73.99292  Entire home/apt    229              30                  0   \n",
      "45743  -74.02331  Entire home/apt    245               3                  2   \n",
      "45958  -73.97270  Entire home/apt    162              29                  0   \n",
      "46025  -73.88769     Private room     69               1                  3   \n",
      "46185  -73.85258     Private room     49               1                  3   \n",
      "46237  -73.95048     Private room     60               3                  2   \n",
      "46418  -73.89454     Private room     35              29                  0   \n",
      "46478  -73.92696     Private room     37              30                  0   \n",
      "46502  -73.99606  Entire home/apt    399              14                  0   \n",
      "46769  -74.00734  Entire home/apt    185              30                  0   \n",
      "46826  -73.97542     Private room     48              30                  0   \n",
      "46828  -73.97506     Private room     48              30                  0   \n",
      "46832  -73.97532     Private room     48              30                  0   \n",
      "46833  -73.97551     Private room     48              30                  0   \n",
      "46834  -73.97393     Private room     48              30                  0   \n",
      "46835  -73.97523     Private room     48              30                  0   \n",
      "46836  -73.97502     Private room     48              30                  0   \n",
      "46838  -73.97400     Private room     48              30                  0   \n",
      "46840  -73.97361     Private room     48              30                  0   \n",
      "46843  -73.97498     Private room     48              30                  0   \n",
      "46846  -74.00400  Entire home/apt    209              30                  0   \n",
      "46924  -74.00583  Entire home/apt    200               3                  0   \n",
      "47456  -73.98002  Entire home/apt    380               2                  0   \n",
      "47876  -73.95530     Private room    122              10                  0   \n",
      "48026  -73.93485     Private room     99               1                  0   \n",
      "48207  -73.87020  Entire home/apt     67               2                  0   \n",
      "48662  -73.86877     Private room     66               1                  0   \n",
      "48684  -74.01816     Private room    185               1                  0   \n",
      "\n",
      "      last_review  reviews_per_month  calculated_host_listings_count  \\\n",
      "330    2011-05-12               0.02                              28   \n",
      "339    2019-06-27               0.14                              28   \n",
      "580    2015-07-20               0.15                               2   \n",
      "661           NaT               0.00                               2   \n",
      "669    2018-11-06               0.32                              28   \n",
      "670    2019-06-24               0.66                              28   \n",
      "674    2019-04-25               0.26                              28   \n",
      "675    2019-06-22               0.26                              28   \n",
      "676    2019-07-02               0.47                              28   \n",
      "677    2019-07-03               0.32                              28   \n",
      "678    2019-06-29               0.44                              28   \n",
      "679    2018-07-26               0.09                              28   \n",
      "680    2015-11-03               0.03                              28   \n",
      "682    2015-12-04               0.05                              28   \n",
      "827    2019-06-22               0.49                              28   \n",
      "829    2019-06-05               0.93                              28   \n",
      "831    2019-06-30               0.84                              28   \n",
      "832    2019-07-01               1.06                              28   \n",
      "833    2019-04-23               0.26                              28   \n",
      "836    2019-06-10               0.61                              28   \n",
      "1098   2012-05-29               0.02                               3   \n",
      "1772          NaT               0.00                               4   \n",
      "2564   2019-05-21               1.63                               3   \n",
      "3581   2019-04-01               0.19                               2   \n",
      "5243   2018-08-12               0.22                              39   \n",
      "5903   2019-05-19               0.78                               8   \n",
      "8176   2019-06-06               0.52                               8   \n",
      "8177   2019-03-29               0.48                               8   \n",
      "9057   2015-07-19               0.02                               2   \n",
      "9218   2015-07-06               0.02                               2   \n",
      "...           ...                ...                             ...   \n",
      "45413  2019-06-28               4.91                               6   \n",
      "45461  2019-07-01               5.77                               6   \n",
      "45663         NaT               0.00                              87   \n",
      "45743  2019-06-27               2.00                               2   \n",
      "45958         NaT               0.00                             327   \n",
      "46025  2019-06-30               3.00                               2   \n",
      "46185  2019-07-06               2.14                               4   \n",
      "46237  2019-06-29               2.00                               2   \n",
      "46418         NaT               0.00                              15   \n",
      "46478         NaT               0.00                              15   \n",
      "46502         NaT               0.00                               2   \n",
      "46769         NaT               0.00                               2   \n",
      "46826         NaT               0.00                              25   \n",
      "46828         NaT               0.00                              25   \n",
      "46832         NaT               0.00                              25   \n",
      "46833         NaT               0.00                              25   \n",
      "46834         NaT               0.00                              25   \n",
      "46835         NaT               0.00                              25   \n",
      "46836         NaT               0.00                              25   \n",
      "46838         NaT               0.00                              25   \n",
      "46840         NaT               0.00                              25   \n",
      "46843         NaT               0.00                              25   \n",
      "46846         NaT               0.00                              87   \n",
      "46924         NaT               0.00                               5   \n",
      "47456         NaT               0.00                               3   \n",
      "47876         NaT               0.00                               3   \n",
      "48026         NaT               0.00                               8   \n",
      "48207         NaT               0.00                               3   \n",
      "48662         NaT               0.00                               2   \n",
      "48684         NaT               0.00                               2   \n",
      "\n",
      "       availability_365  \n",
      "330                  60  \n",
      "339                  81  \n",
      "580                 158  \n",
      "661                 365  \n",
      "669                  84  \n",
      "670                  60  \n",
      "674                  60  \n",
      "675                  60  \n",
      "676                  60  \n",
      "677                  56  \n",
      "678                  84  \n",
      "679                  58  \n",
      "680                  60  \n",
      "682                  81  \n",
      "827                  84  \n",
      "829                  84  \n",
      "831                  56  \n",
      "832                  62  \n",
      "833                  81  \n",
      "836                  60  \n",
      "1098                  0  \n",
      "1772                  0  \n",
      "2564                359  \n",
      "3581                336  \n",
      "5243                252  \n",
      "5903                 99  \n",
      "8176                236  \n",
      "8177                244  \n",
      "9057                  0  \n",
      "9218                  0  \n",
      "...                 ...  \n",
      "45413               365  \n",
      "45461               365  \n",
      "45663               115  \n",
      "45743               255  \n",
      "45958               341  \n",
      "46025               359  \n",
      "46185               329  \n",
      "46237                 0  \n",
      "46418                 5  \n",
      "46478                38  \n",
      "46502                67  \n",
      "46769               346  \n",
      "46826               333  \n",
      "46828               310  \n",
      "46832               341  \n",
      "46833               257  \n",
      "46834               342  \n",
      "46835               305  \n",
      "46836               341  \n",
      "46838                67  \n",
      "46840               334  \n",
      "46843               189  \n",
      "46846               364  \n",
      "46924               294  \n",
      "47456                 2  \n",
      "47876               306  \n",
      "48026               319  \n",
      "48207               134  \n",
      "48662               365  \n",
      "48684               177  \n",
      "\n",
      "[243 rows x 16 columns]\n"
     ]
    }
   ],
   "source": [
    "# Selecting duplicate rows based on 'name' & 'host_id' columns using Pandas\n",
    "nyc_df_duplicates_2 = nyc_airbnb_df[nyc_airbnb_df.duplicated(['name', 'host_id'])]\n",
    "print(\"Duplicate rows based on 'name' & 'host_id' columns: \", nyc_df_duplicates_2, sep='\\n')"
   ]
  },
  {
   "cell_type": "markdown",
   "metadata": {},
   "source": [
    "Although there seem to be a lot of duplicate listings using the name and host id columns, I would hesitate to remove these duplicates because it could be possible that the same host owns multiple properties with the same name. In order to determine which listings to remove, I could try matching up more than these two columns."
   ]
  },
  {
   "cell_type": "markdown",
   "metadata": {},
   "source": [
    "### Fuzzy Matching"
   ]
  },
  {
   "cell_type": "code",
   "execution_count": 17,
   "metadata": {},
   "outputs": [],
   "source": [
    "# Converting listing names column to a list\n",
    "names_list = nyc_airbnb_df['name'].tolist()"
   ]
  },
  {
   "cell_type": "code",
   "execution_count": 18,
   "metadata": {},
   "outputs": [
    {
     "name": "stdout",
     "output_type": "stream",
     "text": [
      "Clean & quiet apt home by the park\n",
      "Skylit Midtown Castle\n",
      "THE VILLAGE OF HARLEM....NEW YORK !\n",
      "Cozy Entire Floor of Brownstone\n",
      "Entire Apt: Spacious Studio/Loft by central park\n",
      "Large Cozy 1 BR Apartment In Midtown East\n",
      "BlissArtsSpace!\n",
      "Large Furnished Room Near B'way \n",
      "Cozy Clean Guest Room - Family Apt\n",
      "Cute & Cozy Lower East Side 1 bdrm\n",
      "Beautiful 1br on Upper West Side\n",
      "Central Manhattan/near Broadway\n",
      "Lovely Room 1, Garden, Best Area, Legal rental\n",
      "Wonderful Guest Bedroom in Manhattan for SINGLES\n",
      "West Village Nest - Superhost\n",
      "Only 2 stops to Manhattan studio\n",
      "Perfect for Your Parents + Garden\n",
      "Chelsea Perfect\n",
      "Hip Historic Brownstone Apartment with Backyard\n",
      "Huge 2 BR Upper East  Cental Park\n"
     ]
    }
   ],
   "source": [
    "# Creating a subset containing only the first twenty listing names\n",
    "first_twenty_names = names_list[0:20]\n",
    "\n",
    "# Previewing first twenty names\n",
    "for item in first_twenty_names:\n",
    "    print (item)"
   ]
  },
  {
   "cell_type": "code",
   "execution_count": 19,
   "metadata": {},
   "outputs": [
    {
     "data": {
      "text/plain": [
       "[('Cozy Entire Floor of Brownstone', 86),\n",
       " ('Large Cozy 1 BR Apartment In Midtown East', 86)]"
      ]
     },
     "execution_count": 19,
     "metadata": {},
     "output_type": "execute_result"
    }
   ],
   "source": [
    "from fuzzywuzzy import process\n",
    "\n",
    "# Comparing string 'Cozy Apartment' with first twenty listing names using extract, returns two possible matches\n",
    "process.extract('Cozy Apartment', first_twenty_names, limit=2)"
   ]
  },
  {
   "cell_type": "code",
   "execution_count": 20,
   "metadata": {},
   "outputs": [
    {
     "data": {
      "text/plain": [
       "('Cozy Entire Floor of Brownstone', 86)"
      ]
     },
     "execution_count": 20,
     "metadata": {},
     "output_type": "execute_result"
    }
   ],
   "source": [
    "# Finding only the best match using the extractOne method\n",
    "process.extractOne('Cozy Apartment', first_twenty_names)"
   ]
  },
  {
   "cell_type": "code",
   "execution_count": 21,
   "metadata": {},
   "outputs": [
    {
     "data": {
      "text/plain": [
       "[('Clean & quiet apt home by the park', 60),\n",
       " ('Entire Apt: Spacious Studio/Loft by central park', 60)]"
      ]
     },
     "execution_count": 21,
     "metadata": {},
     "output_type": "execute_result"
    }
   ],
   "source": [
    "# Comparing string 'Park' with first twenty listing names using extract, returns two possible matches\n",
    "process.extract('Park', first_twenty_names, limit=2)"
   ]
  },
  {
   "cell_type": "code",
   "execution_count": 22,
   "metadata": {},
   "outputs": [
    {
     "data": {
      "text/plain": [
       "('Clean & quiet apt home by the park', 60)"
      ]
     },
     "execution_count": 22,
     "metadata": {},
     "output_type": "execute_result"
    }
   ],
   "source": [
    "# Finding only the best match using the extractOne method\n",
    "process.extractOne('Park', first_twenty_names)"
   ]
  },
  {
   "cell_type": "markdown",
   "metadata": {},
   "source": [
    "Using fuzzywuzzy's `process` module, we can `extract` results from our list of names that are similar to the chosen string. Our output returns tuples containing potential matches with the similarity ratios, so we can then compare how similar or different the matches are. The `extractOne` function finds only the best match, which can be useful when you're only interested in the top result."
   ]
  },
  {
   "cell_type": "code",
   "execution_count": null,
   "metadata": {},
   "outputs": [],
   "source": []
  }
 ],
 "metadata": {
  "kernelspec": {
   "display_name": "Python 3",
   "language": "python",
   "name": "python3"
  },
  "language_info": {
   "codemirror_mode": {
    "name": "ipython",
    "version": 3
   },
   "file_extension": ".py",
   "mimetype": "text/x-python",
   "name": "python",
   "nbconvert_exporter": "python",
   "pygments_lexer": "ipython3",
   "version": "3.7.3"
  }
 },
 "nbformat": 4,
 "nbformat_minor": 2
}
